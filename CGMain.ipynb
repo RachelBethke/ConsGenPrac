{
 "cells": [
  {
   "cell_type": "markdown",
   "id": "32e05d0d-01eb-4ad3-8e34-186f85a6fcfd",
   "metadata": {},
   "source": [
    "## Conservation Genomics Practical\n",
    "\n",
    "------------------------ \n",
    "**Background**:\n",
    "\n",
    "The primary data for modern conservation genomics efforts often includes whole-genome\n",
    "sequences of multiple individuals of a threatened species. From this data, we infer the levels\n",
    "and patterns of genetic diversity, and apply population genetics models to infer past\n",
    "demography. We can also infer levels of inbreeding and patterns of migration from sequence\n",
    "data. If we have access to information about the deleterious consequences of variants, or we\n",
    "apply computation inference of those deleterious effects, we can further infer\n",
    "<br>\n",
    "<br>\n",
    "I have four sets of sequence data, all drawn from one chromosome, from four different populations with distinct population histories. The data consist of only the segregating sites, with “0” being the ancestral allele, and “1” being the derived allele. Each row represents a haplotype drawn from the population, and each dataset consists of 50 such\n",
    "haplotypes.\n",
    "I will randomly select one of the blocks from each data file, and, for each data set, I will:\n",
    "1. Read in the data into a matrix\n",
    "2. Calculate the nucleotide diversity, pi (the data are the segregating sites **only**, out of a span of 10 kb).\n",
    "3. Determine the number of segregating sites, S.\n",
    "4. Calculate Watterson’s theta.\n",
    "5. Calculate Tajima’s D\n",
    "\n",
    "**Equations:** <br>\n",
    "Watterson's estimator ($\\theta$) <br>\n",
    "&nbsp; $\\theta=\\frac{S}{\\sum \\limits_{i=1}^{n-1}1/i}$ &nbsp; ; &nbsp; where $S$=segregating sites, $n$=the number of loci (columns). <br>\n",
    "<br>\n",
    "Average nucleotide diversity ($\\pi$) <br>\n",
    "&nbsp; $ \\pi=\\frac{1}{L} \\sum\\limits_{k=1}^{L}h_k$ &nbsp; ; &nbsp; where $h_{k}=\\frac{2p(n-p)}{n(n-1)}$ , $L$=number of loci (i.e. nucelotide positions / columns), $n$=sample size (number of haplotypes/rows) , and $p$=number of derived alleles (1's) at loci $k$. <br>\n",
    "<br>\n",
    "Tajima's $D$ <br>\n",
    "$D=\\frac{\\pi-\\theta}{SD(\\pi-\\theta)}$ "
   ]
  },
  {
   "cell_type": "code",
   "execution_count": 3,
   "id": "7579086d",
   "metadata": {},
   "outputs": [],
   "source": [
    "#imports\n",
    "import numpy as np\n",
    "import pandas as pd\n",
    "from itertools import combinations\n",
    "import random\n",
    "#from scipy.stats import tajima_d"
   ]
  },
  {
   "cell_type": "code",
   "execution_count": 1,
   "id": "4adac9e2-eade-45b9-9e0a-eb01b4642e47",
   "metadata": {
    "tags": []
   },
   "outputs": [
    {
     "ename": "ModuleNotFoundError",
     "evalue": "No module named 'numpy'",
     "output_type": "error",
     "traceback": [
      "\u001b[0;31m---------------------------------------------------------------------------\u001b[0m",
      "\u001b[0;31mModuleNotFoundError\u001b[0m                       Traceback (most recent call last)",
      "Cell \u001b[0;32mIn[1], line 1\u001b[0m\n\u001b[0;32m----> 1\u001b[0m \u001b[38;5;28;01mimport\u001b[39;00m \u001b[38;5;21;01mnumpy\u001b[39;00m \u001b[38;5;28;01mas\u001b[39;00m \u001b[38;5;21;01mnp\u001b[39;00m\n\u001b[1;32m      2\u001b[0m \u001b[38;5;28;01mimport\u001b[39;00m \u001b[38;5;21;01mpandas\u001b[39;00m \u001b[38;5;28;01mas\u001b[39;00m \u001b[38;5;21;01mpd\u001b[39;00m\n\u001b[1;32m      3\u001b[0m \u001b[38;5;28;01mfrom\u001b[39;00m \u001b[38;5;21;01mitertools\u001b[39;00m \u001b[38;5;28;01mimport\u001b[39;00m combinations\n",
      "\u001b[0;31mModuleNotFoundError\u001b[0m: No module named 'numpy'"
     ]
    }
   ],
   "source": [
    "# Input matrices \n",
    "    # from each file, select one block at random, \n",
    "    # each block consists of haplotypes from 50 individuals (rows)\n",
    "\n",
    "# Need to do the following for all 4 blocks selected from the 4 files.\n",
    "hapmx = pd.read_csv('ConGensData1block1.txt', sep = ',', header=None)"
   ]
  },
  {
   "cell_type": "code",
   "execution_count": null,
   "id": "58051c04-27b4-4490-be14-0a4d7a89692c",
   "metadata": {},
   "outputs": [],
   "source": [
    "# Calculate nucelotide diversity (pi)\n",
    "def calc_pi(haplotypes):\n",
    "    # variables\n",
    "    # formula\n",
    "    # calculations\n",
    "    return pi\n",
    "\n",
    "result_pi = calc_pi(hapmx)\n",
    "print(f\"Nucelotide diversity (pi): {result_pi}\")"
   ]
  },
  {
   "cell_type": "code",
   "execution_count": null,
   "id": "ac6b58d4-7b8c-45ff-8be4-cefded451f19",
   "metadata": {
    "tags": []
   },
   "outputs": [],
   "source": [
    "# Calculate the number of segregating sites (S)\n",
    "def count_segregating_sites(haplotypes):\n",
    "    n = len(haplotypes.axes[1])\n",
    "    S = 0\n",
    "    for i in range(0,n):\n",
    "        if len(haplotypes[i].unique()) == 1: \n",
    "            S = S\n",
    "        else:\n",
    "            S = S + 1\n",
    "    return S\n",
    "\n",
    "result_S = count_segregating_sites(hapmx)\n",
    "print(f\"Segregating sites: {result_S} out of\" {n} \"sites.\")"
   ]
  },
  {
   "cell_type": "code",
   "execution_count": null,
   "id": "a4835e04-d93c-4260-bb67-ca0e3d596c7f",
   "metadata": {},
   "outputs": [],
   "source": [
    "# Calculate wattersons theta\n",
    "def calc_watterson(haplotypes):\n",
    "    # S = segregating sites\n",
    "    # a = sum(1/i)\n",
    "    # pi = S / a ...\n",
    "    return watt\n",
    "\n",
    "result_watt = calculate_watterson(hapmx)\n",
    "print(f\"Wattersons theta: {result_watt}\")"
   ]
  },
  {
   "cell_type": "code",
   "execution_count": null,
   "id": "20781ebc-e7ed-48bf-b092-63106fce8194",
   "metadata": {},
   "outputs": [],
   "source": [
    "# Calculate Tajima's D\n",
    "def tajimas_d(haplotypes):\n",
    "    # variable\n",
    "    # formula\n",
    "    # calculations\n",
    "    Tajimas_D = numerator / denominator\n",
    "    return Tajimas_D\n",
    "\n",
    "result_D = tajimas_d(haplotype_matrix)\n",
    "print(f\"Tajima's D: {result_D}\")"
   ]
  }
 ],
 "metadata": {
  "kernelspec": {
   "display_name": "Python 3 (ipykernel)",
   "language": "python",
   "name": "python3"
  },
  "language_info": {
   "codemirror_mode": {
    "name": "ipython",
    "version": 3
   },
   "file_extension": ".py",
   "mimetype": "text/x-python",
   "name": "python",
   "nbconvert_exporter": "python",
   "pygments_lexer": "ipython3",
   "version": "3.11.4"
  }
 },
 "nbformat": 4,
 "nbformat_minor": 5
}
